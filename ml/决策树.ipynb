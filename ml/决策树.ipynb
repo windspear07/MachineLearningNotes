{
 "cells": [
  {
   "cell_type": "code",
   "execution_count": 1,
   "metadata": {},
   "outputs": [],
   "source": [
    "import numpy as np\n",
    "import matplotlib.pyplot as plt"
   ]
  },
  {
   "cell_type": "markdown",
   "metadata": {},
   "source": [
    "计算复杂度不高，结果易于理解，对中间值的确实不敏感，可以处理不想干的特征。\n",
    "确定：overfitting"
   ]
  },
  {
   "cell_type": "code",
   "execution_count": 116,
   "metadata": {},
   "outputs": [],
   "source": [
    "from math import log\n",
    "\n",
    "# 根据标签纸计算熵\n",
    "# dataset是一个m*l的数组，最后一列是类别标签\n",
    "def calShannonEnt(dataSet):\n",
    "    counts = len(dataSet)\n",
    "    labels={}\n",
    "    for v in dataSet:\n",
    "        className=v[-1]\n",
    "        if className not in labels:\n",
    "            labels[className]=0\n",
    "        labels[className]+=1\n",
    "        \n",
    "    ent = 0\n",
    "    for k in labels.keys():\n",
    "        p= labels[k]*1.0/counts\n",
    "        ent -= p*log(p,2)\n",
    "        \n",
    "    return ent\n",
    "\n",
    "def createDataSet():\n",
    "    dataSet = [[1, 1, 'yes'],\n",
    "               [1, 1, 'yes'],\n",
    "               [1, 0, 'no'],\n",
    "               [0, 1, 'no'],\n",
    "               [0, 1, 'no']]\n",
    "    labels = ['no surfacing','flippers']\n",
    "    #change to discrete values\n",
    "    return dataSet, labels"
   ]
  },
  {
   "cell_type": "code",
   "execution_count": 117,
   "metadata": {},
   "outputs": [
    {
     "data": {
      "text/plain": [
       "0.9709505944546686"
      ]
     },
     "execution_count": 117,
     "metadata": {},
     "output_type": "execute_result"
    }
   ],
   "source": [
    "dataSet,labels=createDataSet()\n",
    "calShannonEnt(dataSet)"
   ]
  },
  {
   "cell_type": "code",
   "execution_count": 118,
   "metadata": {},
   "outputs": [],
   "source": [
    "# 根据指定的列索引和值，切分数据集并过滤对应的列\n",
    "#dataset 数据集\n",
    "## axis 选择的特征\n",
    "def splitDs(dataSet, axis, value):\n",
    "    re=[]\n",
    "    for v in dataSet:\n",
    "        if v[axis] == value:\n",
    "            ## 去除当前属性\n",
    "            tmp = v[:axis]\n",
    "            tmp.extend(v[axis+1:])\n",
    "            re.append(tmp)\n",
    "    return re"
   ]
  },
  {
   "cell_type": "code",
   "execution_count": 119,
   "metadata": {},
   "outputs": [
    {
     "data": {
      "text/plain": [
       "[[1, 'yes'], [1, 'yes'], [0, 'no']]"
      ]
     },
     "execution_count": 119,
     "metadata": {},
     "output_type": "execute_result"
    }
   ],
   "source": [
    "splitDs(dataSet,0,1)"
   ]
  },
  {
   "cell_type": "code",
   "execution_count": 120,
   "metadata": {},
   "outputs": [
    {
     "data": {
      "text/plain": [
       "(-0.40649315662706575, 0)"
      ]
     },
     "execution_count": 120,
     "metadata": {},
     "output_type": "execute_result"
    }
   ],
   "source": [
    "## 决策树算法，选择最佳分类值\n",
    "def chooseBestFeatureToSplit(dataSet):\n",
    "    #获取属性数目\n",
    "    counts = len(dataSet[0])-1\n",
    "    ent=calShannonEnt(dataSet)\n",
    "    \n",
    "    #针对每个属性计算info gain\n",
    "    gain=-100\n",
    "    bastFeature=-1\n",
    "    \n",
    "    #遍历各个属性\n",
    "    for i in range(counts):\n",
    "        # 获取属性值\n",
    "        fvalues=[v[i]  for v in dataSet]\n",
    "        #排重\n",
    "        fset=set(fvalues)\n",
    "        newEnt=0\n",
    "        \n",
    "        #计算每个属性值的entropy\n",
    "        for values in fset:\n",
    "            #切分出指定的集合\n",
    "            ds=splitDs(dataSet, i, values)\n",
    "            newEnt -= len(ds)*1.0*calShannonEnt(ds)/counts\n",
    "        \n",
    "        if newEnt > gain:\n",
    "            gain = newEnt\n",
    "            bastFeature=i\n",
    "    \n",
    "    return ent+gain, bastFeature\n",
    "        \n",
    "chooseBestFeatureToSplit(dataSet)"
   ]
  },
  {
   "cell_type": "code",
   "execution_count": 121,
   "metadata": {},
   "outputs": [],
   "source": [
    "import operator\n",
    "## 获取classList中的最大分类树\n",
    "def majorityCnt(classList):\n",
    "    classCount={}\n",
    "    for vote in classList:\n",
    "        if vote not in classCount: classCount[vote]=0\n",
    "        classCount[vote] += 1\n",
    "    sortCount = sorted(classCount.iterms(), key=operator.itemgetter(1),reverse=True)\n",
    "    \n",
    "    return sortCount[0][0]\n"
   ]
  },
  {
   "cell_type": "code",
   "execution_count": 122,
   "metadata": {},
   "outputs": [],
   "source": [
    "# m*(属性数量 + 值列) \n",
    "def createTree(dataSet,labels):\n",
    "    ##完全相同则终止\n",
    "    classList = [ v[-1] for v in dataSet]\n",
    "    if classList.count(classList[0]) == len(classList):\n",
    "        return classList[0]\n",
    "    \n",
    "    ## 没有属性了则终止，返回最多的那个属性\n",
    "    if len(dataSet[0]) == 1 :\n",
    "        return majorityCnt(classList)\n",
    "    \n",
    "    #找到最好的feature，然后按照feature的值\n",
    "    gain, bestFea=chooseBestFeatureToSplit(dataSet)\n",
    "    bestFeatureName=labels[bestFea]\n",
    "    \n",
    "    vs =[v[bestFea] for v in dataSet]\n",
    "    vs = set(vs)\n",
    "    \n",
    "    myTree = {bestFeatureName:{}}\n",
    "    del(labels[bestFea])\n",
    "    #开始切分\n",
    "    for featureValue in vs:\n",
    "        sublabels=labels[:]\n",
    "        myTree[bestFeatureName][featureValue] = createTree( \\\n",
    "            splitDs(dataSet, bestFea, featureValue), sublabels)\n",
    "        \n",
    "    return myTree"
   ]
  },
  {
   "cell_type": "code",
   "execution_count": 193,
   "metadata": {},
   "outputs": [
    {
     "data": {
      "text/plain": [
       "{'no surfacing': {0: 'no', 1: {'flippers': {0: 'no', 1: 'yes'}}}}"
      ]
     },
     "execution_count": 193,
     "metadata": {},
     "output_type": "execute_result"
    }
   ],
   "source": [
    "createTree(dataSet,labels.copy())"
   ]
  },
  {
   "cell_type": "code",
   "execution_count": 194,
   "metadata": {},
   "outputs": [],
   "source": [
    "#让分类器工作起来\n",
    "def classify(inputTree, featLabels, testVec):\n",
    "    print(\"===================\",inputTree, featLabels)\n",
    "    \n",
    "    ## 如果是叶节点，则返回\n",
    "    if isinstance(inputTree,str):\n",
    "        return inputTree\n",
    "    \n",
    "    # 先获取根节点,属性名\n",
    "    rootFeature = list(inputTree.keys())[0]\n",
    "    # 计算改属性对应的idex\n",
    "    idx=-1\n",
    "        \n",
    "    for i in range(len(featLabels)):\n",
    "        if featLabels[i]==rootFeature: idx=i\n",
    "                        \n",
    "    # 开始分类\n",
    "    judges=inputTree[rootFeature]\n",
    "    testVecFeature = testVec[idx]\n",
    "    \n",
    "    for value in judges:\n",
    "        if value == testVecFeature:\n",
    "            return classify(inputTree[rootFeature][value],featLabels,testVec)"
   ]
  },
  {
   "cell_type": "code",
   "execution_count": 195,
   "metadata": {},
   "outputs": [
    {
     "name": "stdout",
     "output_type": "stream",
     "text": [
      "['no surfacing', 'flippers']\n",
      "=================== {'no surfacing': {0: 'no', 1: {'flippers': {0: 'no', 1: 'yes'}}}} ['no surfacing', 'flippers']\n",
      "=================== {'flippers': {0: 'no', 1: 'yes'}} ['no surfacing', 'flippers']\n",
      "=================== yes ['no surfacing', 'flippers']\n"
     ]
    },
    {
     "data": {
      "text/plain": [
       "'yes'"
      ]
     },
     "execution_count": 195,
     "metadata": {},
     "output_type": "execute_result"
    }
   ],
   "source": [
    "tree={'no surfacing': {0: 'no', 1: {'flippers': {0: 'no', 1: 'yes'}}}}\n",
    "print(labels)\n",
    "classify(tree,labels,[1,1])"
   ]
  },
  {
   "cell_type": "code",
   "execution_count": 182,
   "metadata": {},
   "outputs": [],
   "source": [
    "def storeTree(inputTree,filename):\n",
    "    import pickle\n",
    "    fw=open(filename,'w')\n",
    "    pickle.dump(inputTree,fw)\n",
    "    fw.close()"
   ]
  },
  {
   "cell_type": "code",
   "execution_count": 196,
   "metadata": {},
   "outputs": [
    {
     "name": "stdout",
     "output_type": "stream",
     "text": [
      "{'tearRate': {'reduced': 'no lenses', 'normal': {'astigmatic': {'no': {'age': {'presbyopic': {'prescript': {'myope': 'no lenses', 'hyper': 'soft'}}, 'young': 'soft', 'pre': 'soft'}}, 'yes': {'prescript': {'myope': 'hard', 'hyper': {'age': {'presbyopic': 'no lenses', 'young': 'hard', 'pre': 'no lenses'}}}}}}}}\n"
     ]
    }
   ],
   "source": [
    "## 眼睛类型预测\n",
    "fw=open('lenses.txt')\n",
    "datas = [line.strip().split('\\t') for line in fw.readlines()]\n",
    "lensesLabels=['age','prescript','astigmatic','tearRate','result']\n",
    "rs=createTree(datas,lensesLabels)\n",
    "print(rs)"
   ]
  },
  {
   "cell_type": "code",
   "execution_count": 198,
   "metadata": {},
   "outputs": [
    {
     "name": "stdout",
     "output_type": "stream",
     "text": [
      "=================== {'tearRate': {'reduced': 'no lenses', 'normal': {'astigmatic': {'no': {'age': {'presbyopic': {'prescript': {'myope': 'no lenses', 'hyper': 'soft'}}, 'young': 'soft', 'pre': 'soft'}}, 'yes': {'prescript': {'myope': 'hard', 'hyper': {'age': {'presbyopic': 'no lenses', 'young': 'hard', 'pre': 'no lenses'}}}}}}}} ['age', 'prescript', 'astigmatic', 'result']\n",
      "=================== {'astigmatic': {'no': {'age': {'presbyopic': {'prescript': {'myope': 'no lenses', 'hyper': 'soft'}}, 'young': 'soft', 'pre': 'soft'}}, 'yes': {'prescript': {'myope': 'hard', 'hyper': {'age': {'presbyopic': 'no lenses', 'young': 'hard', 'pre': 'no lenses'}}}}}} ['age', 'prescript', 'astigmatic', 'result']\n",
      "=================== {'age': {'presbyopic': {'prescript': {'myope': 'no lenses', 'hyper': 'soft'}}, 'young': 'soft', 'pre': 'soft'}} ['age', 'prescript', 'astigmatic', 'result']\n",
      "=================== soft ['age', 'prescript', 'astigmatic', 'result']\n",
      "soft\n"
     ]
    }
   ],
   "source": [
    "print( classify(rs,lensesLabels,['young','hyper','no','normal']))"
   ]
  },
  {
   "cell_type": "code",
   "execution_count": null,
   "metadata": {},
   "outputs": [],
   "source": []
  }
 ],
 "metadata": {
  "kernelspec": {
   "display_name": "Python 3",
   "language": "python",
   "name": "python3"
  },
  "language_info": {
   "codemirror_mode": {
    "name": "ipython",
    "version": 3
   },
   "file_extension": ".py",
   "mimetype": "text/x-python",
   "name": "python",
   "nbconvert_exporter": "python",
   "pygments_lexer": "ipython3",
   "version": "3.7.1"
  }
 },
 "nbformat": 4,
 "nbformat_minor": 2
}
