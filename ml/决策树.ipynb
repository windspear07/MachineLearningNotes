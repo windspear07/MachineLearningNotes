{
 "cells": [
  {
   "cell_type": "code",
   "execution_count": 3,
   "metadata": {},
   "outputs": [],
   "source": [
    "import numpy as np\n",
    "import matplotlib.pyplot as plt\n",
    "from math import log"
   ]
  },
  {
   "cell_type": "markdown",
   "metadata": {},
   "source": [
    "计算复杂度不高，结果易于理解，对中间值的确实不敏感，可以处理不想干的特征。\n",
    "缺点：overfitting"
   ]
  },
  {
   "cell_type": "markdown",
   "metadata": {},
   "source": [
    "$$ Ent(D) =-\\sum_{k=1}^{|y|}p_klog_{2}{p_k} $$"
   ]
  },
  {
   "cell_type": "code",
   "execution_count": 30,
   "metadata": {},
   "outputs": [],
   "source": [
    "def calEnt(dataSet):\n",
    "    '''\n",
    "    根据标签计算信息熵\n",
    "    dataset最后一列是类别标签\n",
    "    '''\n",
    "    counts = len(dataSet)\n",
    "    labels={}\n",
    "    for v in dataSet:\n",
    "        className=v[-1]\n",
    "        if className not in labels:\n",
    "            labels[className]=0\n",
    "        labels[className]+=1\n",
    "        \n",
    "    ent = 0\n",
    "    for k in labels.keys():\n",
    "        p= labels[k]*1.0/counts\n",
    "        ent -= p*log(p,2)\n",
    "        \n",
    "    return ent\n",
    "\n",
    "def createDataSet():\n",
    "    dataSet = [[1, 1, 'yes'],\n",
    "               [1, 1, 'yes'],\n",
    "               [1, 0, 'no'],\n",
    "               [0, 1, 'no'],\n",
    "               [0, 1, 'no']]\n",
    "    labels = ['no surfacing','flippers']\n",
    "    #change to discrete values\n",
    "    return dataSet, labels"
   ]
  },
  {
   "cell_type": "code",
   "execution_count": 31,
   "metadata": {},
   "outputs": [
    {
     "data": {
      "text/plain": [
       "0.9709505944546686"
      ]
     },
     "execution_count": 31,
     "metadata": {},
     "output_type": "execute_result"
    }
   ],
   "source": [
    "dataSet,labels=createDataSet()\n",
    "calEnt(dataSet)"
   ]
  },
  {
   "cell_type": "code",
   "execution_count": 33,
   "metadata": {},
   "outputs": [
    {
     "data": {
      "text/plain": [
       "[[1, 'yes'], [1, 'yes'], [0, 'no']]"
      ]
     },
     "execution_count": 33,
     "metadata": {},
     "output_type": "execute_result"
    }
   ],
   "source": [
    "# 根据指定的列索引和值，过滤数据\n",
    "def getDs(dataSet, idx, value):\n",
    "    re=[]\n",
    "    for v in dataSet:\n",
    "        if v[idx] == value:\n",
    "            ## 去除当前属性\n",
    "            tmp = v[:idx]\n",
    "            tmp.extend(v[idx+1:])\n",
    "            re.append(tmp)\n",
    "    return re\n",
    "getDs(dataSet,0,1)"
   ]
  },
  {
   "cell_type": "markdown",
   "metadata": {},
   "source": [
    "$$Gain(D,a) = Ent(D) - \\sum_{v=1}^{V}\\frac{|D^v|}{|D|}Ent({D^v})$$"
   ]
  },
  {
   "cell_type": "code",
   "execution_count": 34,
   "metadata": {},
   "outputs": [
    {
     "data": {
      "text/plain": [
       "(-0.40649315662706575, 0)"
      ]
     },
     "execution_count": 34,
     "metadata": {},
     "output_type": "execute_result"
    }
   ],
   "source": [
    "def chooseBestFeatureToSplit(dataSet):\n",
    "    '''\n",
    "    选择最佳分类值\n",
    "    '''\n",
    "    #获取属性数目\n",
    "    counts = len(dataSet[0])-1\n",
    "    ent=calEnt(dataSet)\n",
    "    \n",
    "    #针对每个属性计算gain\n",
    "    gain=-10000\n",
    "    bastFeature=-1\n",
    "    \n",
    "    #遍历各个属性\n",
    "    for i in range(counts):\n",
    "        # 获取属性值\n",
    "        fset=set([v[i]  for v in dataSet])\n",
    "        newEnt=0\n",
    "        \n",
    "        #计算每个属性值条件下的信息熵\n",
    "        for values in fset:\n",
    "            #过滤出指定的集合\n",
    "            ds=splitDs(dataSet, i, values)\n",
    "            newEnt -= len(ds)*1.0*calShannonEnt(ds)/counts\n",
    "        \n",
    "        if newEnt > gain:\n",
    "            gain = newEnt\n",
    "            bastFeature=i\n",
    "    \n",
    "    return ent+gain, bastFeature\n",
    "        \n",
    "chooseBestFeatureToSplit(dataSet)"
   ]
  },
  {
   "cell_type": "code",
   "execution_count": 35,
   "metadata": {},
   "outputs": [],
   "source": [
    "import operator\n",
    "def getFrequentClass(classList):\n",
    "    '''\n",
    "    获取classList中的占比最多的类别\n",
    "    '''\n",
    "    classCount={}\n",
    "    for vote in classList:\n",
    "        if vote not in classCount: classCount[vote]=0\n",
    "        classCount[vote] += 1\n",
    "    sortCount = sorted(classCount.iterms(), key=operator.itemgetter(1),reverse=True)\n",
    "    \n",
    "    return sortCount[0][0]"
   ]
  },
  {
   "cell_type": "code",
   "execution_count": 36,
   "metadata": {},
   "outputs": [],
   "source": [
    "# m*(属性数量 + 值列) \n",
    "def createTree(dataSet,labels):\n",
    "    ##完全相同则终止\n",
    "    classList = [ v[-1] for v in dataSet]\n",
    "    if classList.count(classList[0]) == len(classList):\n",
    "        return classList[0]\n",
    "    \n",
    "    ## 没有属性了则终止，返回最多的那个属性\n",
    "    if len(dataSet[0]) == 1 :\n",
    "        return getFrequentClass(classList)\n",
    "    \n",
    "    #找到最好的feature，然后按照feature的值\n",
    "    gain, bestFea=chooseBestFeatureToSplit(dataSet)\n",
    "    bestFeatureName=labels[bestFea]\n",
    "    \n",
    "    vs =[v[bestFea] for v in dataSet]\n",
    "    vs = set(vs)\n",
    "    myTree = {bestFeatureName:{}}\n",
    "    del(labels[bestFea])\n",
    "    #开始切分\n",
    "    for featureValue in vs:\n",
    "        sublabels=labels[:]\n",
    "        myTree[bestFeatureName][featureValue] = createTree( \\\n",
    "            splitDs(dataSet, bestFea, featureValue), sublabels)\n",
    "        \n",
    "    return myTree"
   ]
  },
  {
   "cell_type": "code",
   "execution_count": 37,
   "metadata": {},
   "outputs": [
    {
     "data": {
      "text/plain": [
       "{'no surfacing': {0: 'no', 1: {'flippers': {0: 'no', 1: 'yes'}}}}"
      ]
     },
     "execution_count": 37,
     "metadata": {},
     "output_type": "execute_result"
    }
   ],
   "source": [
    "createTree(dataSet,labels.copy())"
   ]
  },
  {
   "cell_type": "code",
   "execution_count": 38,
   "metadata": {},
   "outputs": [],
   "source": [
    "def classify2(inputTree,fLables,vec):\n",
    "    '''\n",
    "    开始分类\n",
    "    inputTree 分类树\n",
    "    fLabels 名称\n",
    "    vec\n",
    "    '''\n",
    "    print(\"=>\",inputTree, featLabels)\n",
    "    if isinstance(inputTree,str): return inputTree\n",
    "    labelNow = list(inputTree.keys())[0]\n",
    "    labelIdx = -1\n",
    "    for i,v in enumerate(fLables):\n",
    "        if v == labelNow: labelIdx =i\n",
    "    \n",
    "    subs = inputTree[labelNow]\n",
    "    vecFeature=vec[labelIdx]\n",
    "    \n",
    "    for v in subs:\n",
    "        if v == vecFeature:\n",
    "            return classify2(subs[v],fLables,vec)\n",
    "    "
   ]
  },
  {
   "cell_type": "code",
   "execution_count": 39,
   "metadata": {},
   "outputs": [
    {
     "name": "stdout",
     "output_type": "stream",
     "text": [
      "['no surfacing', 'flippers']\n",
      "=> {'no surfacing': {0: 'no', 1: {'flippers': {0: 'no', 1: 'yes'}}}} ['no surfacing', 'flippers']\n",
      "=> {'flippers': {0: 'no', 1: 'yes'}} ['no surfacing', 'flippers']\n",
      "=> yes ['no surfacing', 'flippers']\n"
     ]
    },
    {
     "data": {
      "text/plain": [
       "'yes'"
      ]
     },
     "execution_count": 39,
     "metadata": {},
     "output_type": "execute_result"
    }
   ],
   "source": [
    "tree={'no surfacing': {0: 'no', 1: {'flippers': {0: 'no', 1: 'yes'}}}}\n",
    "print(labels)\n",
    "classify(tree,labels,[1,1])"
   ]
  },
  {
   "cell_type": "code",
   "execution_count": 21,
   "metadata": {},
   "outputs": [],
   "source": [
    "def storeTree(inputTree,filename):\n",
    "    import pickle\n",
    "    fw=open(filename,'w')\n",
    "    pickle.dump(inputTree,fw)\n",
    "    fw.close()"
   ]
  },
  {
   "cell_type": "markdown",
   "metadata": {},
   "source": [
    "------------新的例子"
   ]
  },
  {
   "cell_type": "code",
   "execution_count": 196,
   "metadata": {},
   "outputs": [
    {
     "name": "stdout",
     "output_type": "stream",
     "text": [
      "{'tearRate': {'reduced': 'no lenses', 'normal': {'astigmatic': {'no': {'age': {'presbyopic': {'prescript': {'myope': 'no lenses', 'hyper': 'soft'}}, 'young': 'soft', 'pre': 'soft'}}, 'yes': {'prescript': {'myope': 'hard', 'hyper': {'age': {'presbyopic': 'no lenses', 'young': 'hard', 'pre': 'no lenses'}}}}}}}}\n"
     ]
    }
   ],
   "source": [
    "## 眼睛类型预测\n",
    "fw=open('./datas/lenses.txt')\n",
    "datas = [line.strip().split('\\t') for line in fw.readlines()]\n",
    "lensesLabels=['age','prescript','astigmatic','tearRate','result']\n",
    "rs=createTree(datas,lensesLabels)\n",
    "print(rs)"
   ]
  },
  {
   "cell_type": "code",
   "execution_count": 198,
   "metadata": {},
   "outputs": [
    {
     "name": "stdout",
     "output_type": "stream",
     "text": [
      "=================== {'tearRate': {'reduced': 'no lenses', 'normal': {'astigmatic': {'no': {'age': {'presbyopic': {'prescript': {'myope': 'no lenses', 'hyper': 'soft'}}, 'young': 'soft', 'pre': 'soft'}}, 'yes': {'prescript': {'myope': 'hard', 'hyper': {'age': {'presbyopic': 'no lenses', 'young': 'hard', 'pre': 'no lenses'}}}}}}}} ['age', 'prescript', 'astigmatic', 'result']\n",
      "=================== {'astigmatic': {'no': {'age': {'presbyopic': {'prescript': {'myope': 'no lenses', 'hyper': 'soft'}}, 'young': 'soft', 'pre': 'soft'}}, 'yes': {'prescript': {'myope': 'hard', 'hyper': {'age': {'presbyopic': 'no lenses', 'young': 'hard', 'pre': 'no lenses'}}}}}} ['age', 'prescript', 'astigmatic', 'result']\n",
      "=================== {'age': {'presbyopic': {'prescript': {'myope': 'no lenses', 'hyper': 'soft'}}, 'young': 'soft', 'pre': 'soft'}} ['age', 'prescript', 'astigmatic', 'result']\n",
      "=================== soft ['age', 'prescript', 'astigmatic', 'result']\n",
      "soft\n"
     ]
    }
   ],
   "source": [
    "print( classify(rs,lensesLabels,['young','hyper','no','normal']))"
   ]
  },
  {
   "cell_type": "code",
   "execution_count": null,
   "metadata": {},
   "outputs": [],
   "source": []
  }
 ],
 "metadata": {
  "kernelspec": {
   "display_name": "Python 3",
   "language": "python",
   "name": "python3"
  },
  "language_info": {
   "codemirror_mode": {
    "name": "ipython",
    "version": 3
   },
   "file_extension": ".py",
   "mimetype": "text/x-python",
   "name": "python",
   "nbconvert_exporter": "python",
   "pygments_lexer": "ipython3",
   "version": "3.7.1"
  }
 },
 "nbformat": 4,
 "nbformat_minor": 2
}
