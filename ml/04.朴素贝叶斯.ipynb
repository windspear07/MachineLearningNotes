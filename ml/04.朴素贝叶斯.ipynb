{
 "cells": [
  {
   "cell_type": "markdown",
   "metadata": {},
   "source": [
    "优点：数据较少情况下仍然有效，可以处理多类别的问题\n",
    "\n",
    "缺点：对于输入数据的准备方式较为敏感\n",
    "\n",
    "使用数据类型：标称型数据\n"
   ]
  },
  {
   "cell_type": "code",
   "execution_count": 16,
   "metadata": {},
   "outputs": [],
   "source": [
    "import numpy as np\n",
    "\n",
    "def loadDataSet():\n",
    "    postingList=[['my', 'dog','dog' 'has', 'flea', 'problems', 'help', 'please'],\n",
    "                 ['maybe', 'not', 'take', 'him', 'to', 'dog', 'park', 'stupid'],\n",
    "                 ['my', 'dalmation', 'is', 'so', 'cute', 'I', 'love', 'him'],\n",
    "                 ['stop', 'posting', 'stupid', 'worthless', 'garbage'],\n",
    "                 ['mr', 'licks', 'ate', 'my', 'steak', 'how', 'to', 'stop', 'him'],\n",
    "                 ['quit', 'buying', 'worthless', 'dog', 'food', 'stupid']]\n",
    "    classVec = [0,1,0,1,0,1]    #1 is abusive, 0 not\n",
    "    return postingList,classVec\n",
    "\n",
    "def createVocbList(dataSet):\n",
    "    '''\n",
    "    返回字典\n",
    "    '''\n",
    "    vocaSet=set()\n",
    "    for document in dataSet:\n",
    "        vocaSet = vocaSet | set(document)\n",
    "    return list(vocaSet)\n",
    "\n",
    "def bagOfWords2Vec(vocabList, inputSet):\n",
    "    '''\n",
    "    word改造成向量\n",
    "    vocaListabs 字典表\n",
    "    输入向量\n",
    "    '''\n",
    "    ret=[0]*len(vocabList)\n",
    "    for v in inputSet:\n",
    "        if v in vocabList:\n",
    "            ret[vocabList.index(v)]=1\n",
    "        else:\n",
    "            print( v, 'not in vocabulary!')\n",
    "    return ret"
   ]
  },
  {
   "cell_type": "code",
   "execution_count": 17,
   "metadata": {},
   "outputs": [
    {
     "name": "stdout",
     "output_type": "stream",
     "text": [
      "['garbage', 'help', 'food', 'problems', 'cute', 'ate', 'mr', 'steak', 'buying', 'licks', 'dalmation', 'park', 'doghas', 'dog', 'my', 'how', 'please', 'stop', 'not', 'quit', 'worthless', 'to', 'stupid', 'posting', 'love', 'take', 'so', 'is', 'him', 'I', 'maybe', 'flea'] 32\n",
      "[0, 1, 0, 1, 0, 0, 0, 0, 0, 0, 0, 0, 1, 1, 1, 0, 1, 0, 0, 0, 0, 0, 0, 0, 0, 0, 0, 0, 0, 0, 0, 1]\n"
     ]
    }
   ],
   "source": [
    "postingList,classVec=loadDataSet()\n",
    "myvocabList=createVocbList(postingList)\n",
    "print(myvocabList, len(myvocabList))\n",
    "print(bagOfWords2Vec(myvocabList,postingList[0]))"
   ]
  },
  {
   "cell_type": "markdown",
   "metadata": {},
   "source": [
    "$$ p(x_i | \\vec{w}) = \\frac{p(\\vec{w}|c_i) p(c_i)}{p(\\vec{w})}$$\n",
    "\n",
    "朴素贝叶斯假设属性独立,则\n",
    "$$p(\\vec{w}|c_i) = p(w_0|c_i)p(w_1|c_i)\\dots p(w_N|c_i) $$\n",
    "\n",
    "上式中，不需要计算P（w）,因为只要分析各个分子项即可"
   ]
  },
  {
   "cell_type": "code",
   "execution_count": 21,
   "metadata": {},
   "outputs": [],
   "source": [
    "# 11：50-14：20\n",
    "def trainNB0(trainMatrix,trainCategory):\n",
    "    '''\n",
    "    trainmatrix 所有词的矩阵\n",
    "    trainCategory 标记分类的向量\n",
    "    '''\n",
    "    numTrainDocs = len(trainMatrix)\n",
    "    numWords = len(trainMatrix[0])\n",
    "    ## 计算辱骂性出现概率   p(c0)\n",
    "    pAbusive = sum(trainCategory)/float(numTrainDocs)\n",
    "    # p0num是不出现辱骂的文档数目  单词数*1的矩阵\n",
    "    p0Num,p1Num = ones(numWords), ones(numWords) #概率矩阵 \n",
    "    p0Denom = 0.0; p1Denom = 0.0         #分类\n",
    "\n",
    "    for i in range(numTrainDocs):\n",
    "        ##是辱骂性文档\n",
    "        if trainCategory[i] == 1:\n",
    "            ## 同时统计各个词汇的内容\n",
    "            p1Num += trainMatrix[i] ## 各个词汇的出现数量\n",
    "            p1Denom += sum(trainMatrix[i]) ## 总的词汇数\n",
    "        else:\n",
    "            p0Num += trainMatrix[i]\n",
    "            p0Denom += sum(trainMatrix[i])\n",
    "    # p(ci)的概率\n",
    "    p1Vect = log(p1Num/p1Denom)          \n",
    "    p0Vect = log(p0Num/p0Denom)   \n",
    "    ## 返回的是 log( p( w| c_i ) )\n",
    "    return p0Vect,p1Vect,pAbusive"
   ]
  },
  {
   "cell_type": "code",
   "execution_count": 24,
   "metadata": {},
   "outputs": [
    {
     "name": "stdout",
     "output_type": "stream",
     "text": [
      "[-3.17805383 -2.48490665 -3.17805383 -2.48490665 -2.48490665 -2.48490665\n",
      " -2.48490665 -2.48490665 -3.17805383 -2.48490665 -2.48490665 -3.17805383\n",
      " -2.48490665 -2.48490665 -1.79175947 -2.48490665 -2.48490665 -2.48490665\n",
      " -3.17805383 -3.17805383 -3.17805383 -2.48490665 -3.17805383 -3.17805383\n",
      " -2.48490665 -3.17805383 -2.48490665 -2.48490665 -2.07944154 -2.48490665\n",
      " -3.17805383 -2.48490665] [-2.2512918  -2.94443898 -2.2512918  -2.94443898 -2.94443898 -2.94443898\n",
      " -2.94443898 -2.94443898 -2.2512918  -2.94443898 -2.94443898 -2.2512918\n",
      " -2.94443898 -1.84582669 -2.94443898 -2.94443898 -2.94443898 -2.2512918\n",
      " -2.2512918  -2.2512918  -1.84582669 -2.2512918  -1.55814462 -2.2512918\n",
      " -2.94443898 -2.2512918  -2.94443898 -2.94443898 -2.2512918  -2.94443898\n",
      " -2.2512918  -2.94443898] 0.5\n"
     ]
    }
   ],
   "source": [
    "trainMat=[]\n",
    "for doc in postingList:\n",
    "    trainMat.append(bagOfWords2Vec(myvocabList,doc))\n",
    "\n",
    "p0v,p1v,pAb=trainNB0(trainMat,classVec)\n",
    "print(p0v,p1v,pAb)"
   ]
  },
  {
   "cell_type": "code",
   "execution_count": 20,
   "metadata": {},
   "outputs": [
    {
     "name": "stdout",
     "output_type": "stream",
     "text": [
      "['love', 'my', 'dalmation'] classified as:  0\n",
      "['stupid', 'garbage'] classified as:  1\n",
      "===============================\n",
      "classified as:  0 0\n",
      "classified as:  1 1\n",
      "classified as:  0 0\n",
      "classified as:  1 1\n",
      "classified as:  0 0\n",
      "classified as:  1 1\n"
     ]
    }
   ],
   "source": [
    "## ve2 带分类的向量\n",
    "def classifyNB(vec2Classify, p0Vec, p1Vec, pClass1):\n",
    "    p1 = sum(vec2Classify * p1Vec) + log(pClass1)    #element-wise mult\n",
    "    p0 = sum(vec2Classify * p0Vec) + log(1.0 - pClass1)\n",
    "    if p1 > p0:\n",
    "        return 1\n",
    "    else: \n",
    "        return 0\n",
    "    \n",
    "\n",
    "def testingNB():\n",
    "    listOPosts,listClasses = loadDataSet()\n",
    "    myVocabList = createVocbList(listOPosts)\n",
    "    trainMat=[]\n",
    "    for postinDoc in listOPosts:\n",
    "        trainMat.append(setOfWords2Vec(myVocabList, postinDoc))\n",
    "    p0V,p1V,pAb = trainNB0(array(trainMat),array(listClasses))\n",
    "    testEntry = ['love', 'my', 'dalmation']\n",
    "    thisDoc = array(setOfWords2Vec(myVocabList, testEntry))\n",
    "    print(testEntry,'classified as: ',classifyNB(thisDoc,p0V,p1V,pAb) )\n",
    "    testEntry = ['stupid', 'garbage']\n",
    "    thisDoc = array(setOfWords2Vec(myVocabList, testEntry))\n",
    "    print(testEntry,'classified as: ',classifyNB(thisDoc,p0V,p1V,pAb) )\n",
    "    \n",
    "    print(\"===============================\")\n",
    "    for i in range(len(listOPosts)):\n",
    "        example=array(setOfWords2Vec(myVocabList, listOPosts[i]))\n",
    "        print('classified as: ',classifyNB(example,p0V,p1V,pAb),\\\n",
    "              listClasses[i] )           \n",
    "    \n",
    "testingNB()"
   ]
  },
  {
   "cell_type": "code",
   "execution_count": 9,
   "metadata": {},
   "outputs": [
    {
     "data": {
      "text/plain": [
       "['fsdf', 'fwe', 'wer', 'werwer', 'wer']"
      ]
     },
     "execution_count": 9,
     "metadata": {},
     "output_type": "execute_result"
    }
   ],
   "source": [
    "def textParse(bigString):    #input is big string, #output is word list\n",
    "    import re\n",
    "    listOfTokens = re.split('[^\\w]', bigString)\n",
    "    return [tok.lower() for tok in listOfTokens if len(tok) > 2] \n",
    "\n",
    "textParse(\"sd fsdf sd f ,s fwe,r wer,.w werwer w wer \")"
   ]
  },
  {
   "cell_type": "code",
   "execution_count": 10,
   "metadata": {},
   "outputs": [
    {
     "ename": "FileNotFoundError",
     "evalue": "[Errno 2] No such file or directory: 'email/ham/6.txt'",
     "output_type": "error",
     "traceback": [
      "\u001b[0;31m---------------------------------------------------------------------------\u001b[0m",
      "\u001b[0;31mFileNotFoundError\u001b[0m                         Traceback (most recent call last)",
      "\u001b[0;32m<ipython-input-10-d643b7abae62>\u001b[0m in \u001b[0;36m<module>\u001b[0;34m\u001b[0m\n\u001b[0;32m----> 1\u001b[0;31m \u001b[0memailText\u001b[0m\u001b[0;34m=\u001b[0m\u001b[0mopen\u001b[0m\u001b[0;34m(\u001b[0m\u001b[0;34m'email/ham/6.txt'\u001b[0m\u001b[0;34m)\u001b[0m\u001b[0;34m.\u001b[0m\u001b[0mread\u001b[0m\u001b[0;34m(\u001b[0m\u001b[0;34m)\u001b[0m\u001b[0;34m\u001b[0m\u001b[0;34m\u001b[0m\u001b[0m\n\u001b[0m",
      "\u001b[0;31mFileNotFoundError\u001b[0m: [Errno 2] No such file or directory: 'email/ham/6.txt'"
     ]
    }
   ],
   "source": [
    "emailText=open('email/ham/6.txt').read()"
   ]
  },
  {
   "cell_type": "code",
   "execution_count": 11,
   "metadata": {
    "scrolled": true
   },
   "outputs": [
    {
     "ename": "FileNotFoundError",
     "evalue": "[Errno 2] No such file or directory: 'email/spam/1.txt'",
     "output_type": "error",
     "traceback": [
      "\u001b[0;31m---------------------------------------------------------------------------\u001b[0m",
      "\u001b[0;31mFileNotFoundError\u001b[0m                         Traceback (most recent call last)",
      "\u001b[0;32m<ipython-input-11-f6d0fed293b7>\u001b[0m in \u001b[0;36m<module>\u001b[0;34m\u001b[0m\n\u001b[1;32m      5\u001b[0m \u001b[0;31m#get spam\u001b[0m\u001b[0;34m\u001b[0m\u001b[0;34m\u001b[0m\u001b[0;34m\u001b[0m\u001b[0m\n\u001b[1;32m      6\u001b[0m \u001b[0;32mfor\u001b[0m \u001b[0mi\u001b[0m \u001b[0;32min\u001b[0m \u001b[0mrange\u001b[0m\u001b[0;34m(\u001b[0m\u001b[0;36m25\u001b[0m\u001b[0;34m)\u001b[0m\u001b[0;34m:\u001b[0m\u001b[0;34m\u001b[0m\u001b[0;34m\u001b[0m\u001b[0m\n\u001b[0;32m----> 7\u001b[0;31m     \u001b[0mdatas\u001b[0m\u001b[0;34m.\u001b[0m\u001b[0mappend\u001b[0m\u001b[0;34m(\u001b[0m \u001b[0mtextParse\u001b[0m\u001b[0;34m(\u001b[0m \u001b[0mopen\u001b[0m\u001b[0;34m(\u001b[0m\u001b[0;34m'email/spam/%d.txt'\u001b[0m \u001b[0;34m%\u001b[0m \u001b[0;34m(\u001b[0m\u001b[0mi\u001b[0m\u001b[0;34m+\u001b[0m\u001b[0;36m1\u001b[0m\u001b[0;34m)\u001b[0m \u001b[0;34m)\u001b[0m\u001b[0;34m.\u001b[0m\u001b[0mread\u001b[0m\u001b[0;34m(\u001b[0m\u001b[0;34m)\u001b[0m \u001b[0;34m)\u001b[0m\u001b[0;34m)\u001b[0m\u001b[0;34m\u001b[0m\u001b[0;34m\u001b[0m\u001b[0m\n\u001b[0m\u001b[1;32m      8\u001b[0m     \u001b[0mclassVecs\u001b[0m\u001b[0;34m.\u001b[0m\u001b[0mappend\u001b[0m\u001b[0;34m(\u001b[0m\u001b[0;36m1\u001b[0m\u001b[0;34m)\u001b[0m\u001b[0;34m\u001b[0m\u001b[0;34m\u001b[0m\u001b[0m\n\u001b[1;32m      9\u001b[0m \u001b[0;31m#get ham\u001b[0m\u001b[0;34m\u001b[0m\u001b[0;34m\u001b[0m\u001b[0;34m\u001b[0m\u001b[0m\n",
      "\u001b[0;31mFileNotFoundError\u001b[0m: [Errno 2] No such file or directory: 'email/spam/1.txt'"
     ]
    }
   ],
   "source": [
    "## 开始测试\n",
    "datas=[]\n",
    "classVecs=[]\n",
    "\n",
    "#get spam\n",
    "for i in range(25):\n",
    "    datas.append( textParse( open('email/spam/%d.txt' % (i+1) ).read() ))\n",
    "    classVecs.append(1)\n",
    "#get ham\n",
    "for i in range(25):\n",
    "    datas.append( textParse( open('email/ham/%d.txt' % (i+1) ,  encoding='ISO-8859-1').read() ))\n",
    "    classVecs.append(0)\n",
    "    \n",
    "## 生成字典\n",
    "vocabs = createVocbList(datas)\n",
    "\n",
    "\n",
    "vdata=[]\n",
    "for d in datas:\n",
    "    vdata.append(bagOfWords2Vec(vocabs, d))\n",
    "\n",
    "p0v,p1v,v=trainNB0(vdata,classVecs)\n"
   ]
  },
  {
   "cell_type": "code",
   "execution_count": 1,
   "metadata": {},
   "outputs": [
    {
     "ename": "NameError",
     "evalue": "name 'vdata' is not defined",
     "output_type": "error",
     "traceback": [
      "\u001b[0;31m---------------------------------------------------------------------------\u001b[0m",
      "\u001b[0;31mNameError\u001b[0m                                 Traceback (most recent call last)",
      "\u001b[0;32m<ipython-input-1-2040844c74ed>\u001b[0m in \u001b[0;36m<module>\u001b[0;34m\u001b[0m\n\u001b[1;32m      1\u001b[0m \u001b[0;31m#测试数据上的效果\u001b[0m\u001b[0;34m\u001b[0m\u001b[0;34m\u001b[0m\u001b[0;34m\u001b[0m\u001b[0m\n\u001b[1;32m      2\u001b[0m \u001b[0merros\u001b[0m\u001b[0;34m=\u001b[0m\u001b[0;36m0\u001b[0m\u001b[0;34m\u001b[0m\u001b[0;34m\u001b[0m\u001b[0m\n\u001b[0;32m----> 3\u001b[0;31m \u001b[0;32mfor\u001b[0m \u001b[0mi\u001b[0m \u001b[0;32min\u001b[0m \u001b[0mrange\u001b[0m\u001b[0;34m(\u001b[0m\u001b[0mlen\u001b[0m\u001b[0;34m(\u001b[0m\u001b[0mvdata\u001b[0m\u001b[0;34m)\u001b[0m\u001b[0;34m)\u001b[0m\u001b[0;34m:\u001b[0m\u001b[0;34m\u001b[0m\u001b[0;34m\u001b[0m\u001b[0m\n\u001b[0m\u001b[1;32m      4\u001b[0m     \u001b[0;32mif\u001b[0m \u001b[0mclassifyNB\u001b[0m\u001b[0;34m(\u001b[0m\u001b[0mvdata\u001b[0m\u001b[0;34m[\u001b[0m\u001b[0mi\u001b[0m\u001b[0;34m]\u001b[0m\u001b[0;34m,\u001b[0m\u001b[0mp0v\u001b[0m\u001b[0;34m,\u001b[0m\u001b[0mp1v\u001b[0m\u001b[0;34m,\u001b[0m\u001b[0mv\u001b[0m\u001b[0;34m)\u001b[0m \u001b[0;34m!=\u001b[0m \u001b[0mclassVecs\u001b[0m\u001b[0;34m[\u001b[0m\u001b[0mi\u001b[0m\u001b[0;34m]\u001b[0m \u001b[0;34m:\u001b[0m\u001b[0;34m\u001b[0m\u001b[0;34m\u001b[0m\u001b[0m\n\u001b[1;32m      5\u001b[0m         \u001b[0merros\u001b[0m \u001b[0;34m+=\u001b[0m \u001b[0;36m1\u001b[0m\u001b[0;34m\u001b[0m\u001b[0;34m\u001b[0m\u001b[0m\n",
      "\u001b[0;31mNameError\u001b[0m: name 'vdata' is not defined"
     ]
    }
   ],
   "source": [
    "#测试数据上的效果\n",
    "erros=0\n",
    "for i in range(len(vdata)):\n",
    "    if classifyNB(vdata[i],p0v,p1v,v) != classVecs[i] :\n",
    "        erros += 1\n",
    "\n",
    "print( '%0.2f%% ' % (erros*100.0/len(vdata)) )"
   ]
  },
  {
   "cell_type": "code",
   "execution_count": null,
   "metadata": {},
   "outputs": [],
   "source": []
  }
 ],
 "metadata": {
  "kernelspec": {
   "display_name": "Python 3",
   "language": "python",
   "name": "python3"
  },
  "language_info": {
   "codemirror_mode": {
    "name": "ipython",
    "version": 3
   },
   "file_extension": ".py",
   "mimetype": "text/x-python",
   "name": "python",
   "nbconvert_exporter": "python",
   "pygments_lexer": "ipython3",
   "version": "3.7.1"
  }
 },
 "nbformat": 4,
 "nbformat_minor": 2
}
