{
 "cells": [
  {
   "cell_type": "markdown",
   "metadata": {},
   "source": [
    "优点：计算代价不高，易于实现和理解\n",
    "\n",
    "缺点：容易欠拟合，分类精度可能不高\n",
    "\n",
    "$$\\sigma (z)=\\frac{1}{1 + e^{-z}}$$"
   ]
  },
  {
   "cell_type": "code",
   "execution_count": 9,
   "metadata": {},
   "outputs": [
    {
     "data": {
      "text/plain": [
       "matrix([[ 4.12414349],\n",
       "        [ 0.48007329],\n",
       "        [-0.6168482 ]])"
      ]
     },
     "execution_count": 9,
     "metadata": {},
     "output_type": "execute_result"
    }
   ],
   "source": [
    "from numpy import *\n",
    "\n",
    "def loadDataSet():\n",
    "    dataMat = []; labelMat = []\n",
    "    fr = open('testSet.txt')\n",
    "    for line in fr.readlines():\n",
    "        lineArr = line.strip().split()\n",
    "        dataMat.append([1.0, float(lineArr[0]), float(lineArr[1])])\n",
    "        labelMat.append(int(lineArr[2]))\n",
    "    return dataMat,labelMat\n",
    "\n",
    "def sigmoid(intx):\n",
    "    return 1.0 / (1 + exp(-intx)) \n",
    "\n",
    "def gradAscent(dataMatIn, classLabels):\n",
    "    dataMatrix=mat(dataMatIn)\n",
    "    labelMat=mat(classLabels).transpose()\n",
    "    m,n=shape(dataMatrix)\n",
    "    \n",
    "    alpha=0.001\n",
    "    maxCycles=500\n",
    "    weights=ones((n,1))\n",
    "    \n",
    "    for k in range(maxCycles):\n",
    "        h = sigmoid( dataMatrix * weights )\n",
    "        error=labelMat -h \n",
    "        weights = weights + alpha*dataMatrix.transpose()*error\n",
    "    return weights\n",
    "\n",
    "dataMat,labelMat=loadDataSet()\n",
    "gradAscent(dataMat,labelMat)"
   ]
  },
  {
   "cell_type": "markdown",
   "metadata": {},
   "source": [
    "这本书讲了算法的实现，但是没有对指定算法的cost、收敛性等做明确指示。"
   ]
  },
  {
   "cell_type": "code",
   "execution_count": null,
   "metadata": {},
   "outputs": [],
   "source": []
  }
 ],
 "metadata": {
  "kernelspec": {
   "display_name": "Python 3",
   "language": "python",
   "name": "python3"
  },
  "language_info": {
   "codemirror_mode": {
    "name": "ipython",
    "version": 3
   },
   "file_extension": ".py",
   "mimetype": "text/x-python",
   "name": "python",
   "nbconvert_exporter": "python",
   "pygments_lexer": "ipython3",
   "version": "3.7.1"
  }
 },
 "nbformat": 4,
 "nbformat_minor": 2
}
