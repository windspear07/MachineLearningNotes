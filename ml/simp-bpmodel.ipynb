{
 "cells": [
  {
   "cell_type": "markdown",
   "metadata": {},
   "source": [
    "## 网络结构\n",
    "input： $x_1,x_2,\\dots ,x_d$\n",
    "\n",
    "第h个隐层神经元输入 $a_h=\\sum_{i=1}^d v_{ih}x_i$\n",
    "\n",
    "第h个神经元的阈值$\\gamma_h$\n",
    "\n",
    "第j个输出神经元的输入 $\\beta_j=\\sum_{h=1}^q w_{hj}b_h$\n",
    "\n",
    "第j个输出神经元的阈值$\\theta_j$\n",
    "\n",
    "综上只，第一层矩阵d*q\n",
    "第二层矩阵 q*l\n",
    "\n",
    "## 反向传播的公式\n",
    "\n",
    "准备值：\n",
    "\n",
    "$g_j=\\hat y_j^k(1-\\hat y_j^k)(y_j^k-\\hat y_j^k)$\n",
    "\n",
    "$e_h=b_h (1-b_h)\\sum_{j=1}^l w_{hj}g_j$\n",
    "\n",
    "更新：\n",
    "\n",
    "$\\Delta w_{hj}=\\eta g_j b_h$\n",
    "\n",
    "$\\Delta\\theta_j=-\\eta g_j$\n",
    "\n",
    "$\\Delta v_{ih}=\\eta e_h x_i$\n",
    "\n",
    "$\\Delta \\gamma_h = -\\eta e_h$"
   ]
  },
  {
   "cell_type": "markdown",
   "metadata": {},
   "source": [
    "## 转换成矩阵表达\n",
    "对于样本$(x^k,y^k)$计算\n",
    "\n",
    "$ b = sigmoid(  v \\times x^k - \\gamma) $\n",
    "\n",
    "$ \\hat y^k = sigmoid(  w \\times b - \\theta)$\n",
    "\n",
    "$x \\to d*1, v\\to q*d, \\gamma \\to q*1, w \\to q*l, \\theta \\to l*1$\n"
   ]
  },
  {
   "cell_type": "markdown",
   "metadata": {},
   "source": [
    "bp逆向传播\n",
    "\n",
    "$g=\\hat y^k(1-\\hat y^k)(y^k - \\hat y^k)   这是一个l\\times 1的矩阵$\n",
    "\n",
    "$e= b*(1-b) * ( w \\times g )  这是一个q\\times 1矩阵$\n",
    "\n",
    "$w=w + \\eta g \\times b^T$\n",
    "\n",
    "$\\theta = \\theta -  \\eta g $\n",
    "\n",
    "$v=v+ \\eta e\\times x^T$\n",
    "\n",
    "$\\gamma=\\gamma - \\eta e$"
   ]
  },
  {
   "cell_type": "code",
   "execution_count": 2,
   "metadata": {},
   "outputs": [],
   "source": [
    "%matplotlib inline\n",
    "import matplotlib.pyplot as plt\n",
    "plt.style.use('seaborn-whitegrid')\n",
    "import numpy as np"
   ]
  }
 ],
 "metadata": {
  "kernelspec": {
   "display_name": "Python 3",
   "language": "python",
   "name": "python3"
  },
  "language_info": {
   "codemirror_mode": {
    "name": "ipython",
    "version": 3
   },
   "file_extension": ".py",
   "mimetype": "text/x-python",
   "name": "python",
   "nbconvert_exporter": "python",
   "pygments_lexer": "ipython3",
   "version": "3.7.1"
  }
 },
 "nbformat": 4,
 "nbformat_minor": 2
}
