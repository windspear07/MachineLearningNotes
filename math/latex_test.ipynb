{
 "cells": [
  {
   "cell_type": "markdown",
   "metadata": {},
   "source": [
    "推荐参考资料：http://www.mohu.org/info/lshort-cn.pdf  \n",
    "\n",
    "这本小册子作为日常参考非常好用。\n",
    "\n",
    "在编写LaTeX时，有两种模式：行内模式(inline mode) 和 展示模式(display mode).行内模式也称为随文模式，是将公式镶嵌在普通文段内，跟文字排在一起。 展示模式是将公式独立成一行，并且居中显示。\n",
    "\n",
    "比如可以看看这个公式：$y=mx+b$，这是行内\n",
    "\n",
    "行外的效果  $$P(A \\mid B) = \\frac{ P(B \\mid A) P(A) }{ P(B) }$$"
   ]
  },
  {
   "cell_type": "markdown",
   "metadata": {},
   "source": [
    "### 一、快速参考\n",
    "\n",
    "https://www.jianshu.com/p/93ccc63e5a1b\n",
    "\n",
    "#### 上下标\n",
    "$$x^2$$  $$e^{3x}$$ \n",
    "$a_1$,$a_2$, $\\ldots$ $a_n$,\n",
    " $$_{10}C_5$$\n",
    " \n",
    "#### 命令\n",
    "$$ \\sqrt{2\\pi} $$ \n",
    "$$\\frac{a_i}{P_1}$$\n",
    "\n",
    "#### 符号\n",
    " $\\alpha, \\beta, \\gamma $\n",
    " $\\sin(ax-b)$\n",
    " \n",
    " #### 口音\n",
    "\n",
    "$$\\bar a$$ $\\overline{ abc}$ $\\vec{x}$\n",
    "\n",
    "#### 括号\n",
    "\n",
    "$$f(x)=\\left(\\frac{dy}{dx}\\right)^{1/3}$$\n",
    "\n",
    "这是一个矩阵\n",
    "$$\\left[\\begin{matrix}a & b \\cr c & d\\end{matrix}\\right]$$\n",
    "\n",
    "#### 空格\n",
    "\n",
    "$$ \\int f(x) dx $$\n",
    "\n",
    "#### 分段函数\n",
    "\n",
    "\n",
    "\n",
    "$$\n",
    "sign(x)=\\begin{cases}\n",
    "1,&x>0 \\\\ 0,&x=0 \\cr -1,&x<0\n",
    "\\end{cases}\n",
    "$$\n",
    "\n",
    "#### 综合例子\n",
    "\n",
    " $\\frac{-b\\pm\\sqrt{b^2-4ac}}{2a}$\n",
    " \n",
    " $$\\sum_{i=0}^j{i*j}$$\n",
    " \n",
    "$$\\int_{0}^\\pi{\\sin{x}dx}$$\n",
    "\n",
    "### 来个练习 \n",
    "\n",
    "$$\\lim_{n \\to \\infty} \\sum_{k=1}^n \\frac{1}{k^2} = \\frac{\\pi^2}{6}$$"
   ]
  },
  {
   "cell_type": "markdown",
   "metadata": {},
   "source": [
    "latex编辑公式确实好用，怎么没早用呢。kunth真牛！"
   ]
  }
 ],
 "metadata": {
  "kernelspec": {
   "display_name": "Python 3",
   "language": "python",
   "name": "python3"
  },
  "language_info": {
   "codemirror_mode": {
    "name": "ipython",
    "version": 3
   },
   "file_extension": ".py",
   "mimetype": "text/x-python",
   "name": "python",
   "nbconvert_exporter": "python",
   "pygments_lexer": "ipython3",
   "version": "3.7.1"
  }
 },
 "nbformat": 4,
 "nbformat_minor": 2
}
